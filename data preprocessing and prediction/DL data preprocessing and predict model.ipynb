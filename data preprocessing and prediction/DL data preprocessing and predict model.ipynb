{
 "cells": [
  {
   "cell_type": "code",
   "execution_count": 1,
   "metadata": {},
   "outputs": [],
   "source": [
    "import numpy as np\n",
    "x=np.array([[0,0,1],\n",
    "           [0,1,1],\n",
    "           [1,0,1],\n",
    "           [1,1,1],\n",
    "           [1,0,1],\n",
    "           [1,1,1]])\n",
    "y=np.array([[0],\n",
    "           [1],\n",
    "           [1],\n",
    "           [0],\n",
    "           [1],\n",
    "           [0]])"
   ]
  },
  {
   "cell_type": "code",
   "execution_count": 2,
   "metadata": {},
   "outputs": [
    {
     "data": {
      "text/plain": [
       "(6, 1)"
      ]
     },
     "execution_count": 2,
     "metadata": {},
     "output_type": "execute_result"
    }
   ],
   "source": [
    "np.shape(x)\n",
    "np.shape(y)"
   ]
  },
  {
   "cell_type": "code",
   "execution_count": 3,
   "metadata": {},
   "outputs": [
    {
     "name": "stdout",
     "output_type": "stream",
     "text": [
      "[[-0.59294476]\n",
      " [-0.40195918]\n",
      " [-0.54468821]\n",
      " [-0.90366223]\n",
      " [ 0.80794271]]\n"
     ]
    }
   ],
   "source": [
    "# weights of Hidden layers\n",
    "np.random.seed(101)\n",
    "w1=2*np.random.random((3,5))-1\n",
    "w2=2*np.random.random((5,7))-1\n",
    "w3=2*np.random.random((7,5))-1\n",
    "w4=2*np.random.random((5,1))-1\n",
    "print(w4)"
   ]
  },
  {
   "cell_type": "code",
   "execution_count": 4,
   "metadata": {},
   "outputs": [],
   "source": [
    "def sigmoid(x):\n",
    "    return 1/(1+np.exp(-x))"
   ]
  },
  {
   "cell_type": "code",
   "execution_count": 5,
   "metadata": {},
   "outputs": [],
   "source": [
    "def derivative(x):\n",
    "    return x*(1-x)"
   ]
  },
  {
   "cell_type": "code",
   "execution_count": 6,
   "metadata": {},
   "outputs": [],
   "source": [
    "def mse(y,ycap):\n",
    "    return ((y-ycap)**2).mean()"
   ]
  },
  {
   "cell_type": "code",
   "execution_count": 7,
   "metadata": {},
   "outputs": [],
   "source": [
    "def train(x,y,w,iter,conv=0.00000001):\n",
    "    W1=w[0]\n",
    "    W2=w[1]\n",
    "    W3=w[2]\n",
    "    W4=w[3]\n",
    "    perr=0\n",
    "    for i in range(iter):\n",
    "        #Find out the Activation function in forward direction\n",
    "        l1=sigmoid(x.dot(W1))\n",
    "        l2=sigmoid(l1.dot(W2))\n",
    "        l3=sigmoid(l2.dot(W3))\n",
    "        l4=sigmoid(l3.dot(W4))\n",
    "        cerr = mse(y,l4)\n",
    "        if i%250==0:\n",
    "            print(\"current error for every 250 iter\",cerr)\n",
    "            \n",
    "        diff=abs(perr-cerr)\n",
    "        j=0\n",
    "        if diff<=conv:\n",
    "            print(\"training completed agfter \",i+1,\"iter\")\n",
    "            j=1\n",
    "            break\n",
    "            # find out error and darivatives for each layer in backward direction\n",
    "        e4=y-l4\n",
    "        delta4=e4*derivative(l4)\n",
    "        \n",
    "        e3=delta4.dot(W4.T)\n",
    "        delta3=e3*derivative(l3)\n",
    "        \n",
    "        e2=delta3.dot(W3.T)\n",
    "        delta2=e2*derivative(l2)\n",
    "        \n",
    "        e1=delta2.dot(W2.T)\n",
    "        delta1=e1*derivative(l1)\n",
    "        # Adjusting the weights for all layers\n",
    "        W1+=x.T.dot(delta1)\n",
    "        W2+=l1.T.dot(delta2)\n",
    "        W3+=l2.T.dot(delta3)\n",
    "        W4+=l3.T.dot(delta4)\n",
    "        perr=cerr\n",
    "    if j==0:\n",
    "        print(\"training not yet completed\")\n",
    "\n",
    "    return[W1,W2,W3,W4]"
   ]
  },
  {
   "cell_type": "code",
   "execution_count": 8,
   "metadata": {},
   "outputs": [
    {
     "name": "stdout",
     "output_type": "stream",
     "text": [
      "current error for every 250 iter 0.26860899928826326\n",
      "current error for every 250 iter 0.15941616879252865\n",
      "current error for every 250 iter 0.12713600005857492\n",
      "current error for every 250 iter 0.012223155463306287\n",
      "current error for every 250 iter 0.0019838241524214643\n",
      "current error for every 250 iter 0.0009083194419106257\n",
      "current error for every 250 iter 0.0005501558663063793\n",
      "current error for every 250 iter 0.00038144807387436984\n",
      "current error for every 250 iter 0.0002863818028939878\n",
      "current error for every 250 iter 0.0002265242785762525\n",
      "current error for every 250 iter 0.000185873980619259\n",
      "current error for every 250 iter 0.0001567114057023876\n",
      "current error for every 250 iter 0.00013490276297571083\n",
      "current error for every 250 iter 0.00011805448026099373\n",
      "current error for every 250 iter 0.00010469372854521265\n",
      "current error for every 250 iter 9.386901053379987e-05\n",
      "current error for every 250 iter 8.494060926123975e-05\n",
      "current error for every 250 iter 7.74638711728748e-05\n",
      "current error for every 250 iter 7.112089153398425e-05\n",
      "current error for every 250 iter 6.5678822351496e-05\n",
      "current error for every 250 iter 6.096350168774542e-05\n",
      "current error for every 250 iter 5.6842249941787945e-05\n",
      "current error for every 250 iter 5.3212339012100766e-05\n",
      "current error for every 250 iter 4.9993077408497656e-05\n",
      "current error for every 250 iter 4.712026122948386e-05\n",
      "training completed agfter  6199 iter\n"
     ]
    }
   ],
   "source": [
    "theta=train(x,y,[w1,w2,w3,w4],10000)"
   ]
  },
  {
   "cell_type": "code",
   "execution_count": 9,
   "metadata": {},
   "outputs": [
    {
     "name": "stdout",
     "output_type": "stream",
     "text": [
      "[[-1.79160702  3.36228665 -4.15277106 -1.1135678   2.04606174]\n",
      " [ 2.31550669 -2.71548858  4.07476616  0.06365725 -2.49872364]\n",
      " [ 0.72956785  0.9338406   1.01510335  0.98196087  1.0888418 ]]\n"
     ]
    }
   ],
   "source": [
    "print(w1)"
   ]
  },
  {
   "cell_type": "code",
   "execution_count": 10,
   "metadata": {},
   "outputs": [
    {
     "data": {
      "text/plain": [
       "array([[-1.79160702,  3.36228665, -4.15277106, -1.1135678 ,  2.04606174],\n",
       "       [ 2.31550669, -2.71548858,  4.07476616,  0.06365725, -2.49872364],\n",
       "       [ 0.72956785,  0.9338406 ,  1.01510335,  0.98196087,  1.0888418 ]])"
      ]
     },
     "execution_count": 10,
     "metadata": {},
     "output_type": "execute_result"
    }
   ],
   "source": [
    "theta[0] # here w and theta valuesw are same so split them using another methiode"
   ]
  },
  {
   "cell_type": "code",
   "execution_count": 11,
   "metadata": {},
   "outputs": [
    {
     "name": "stdout",
     "output_type": "stream",
     "text": [
      "current error for every 250 iter 4.505635723739577e-05\n",
      "training completed agfter  2 iter\n"
     ]
    }
   ],
   "source": [
    "# to get different values of theta and w\n",
    "w=[np.array(w1),np.array(w2),np.array(w3),np.array(w4)]\n",
    "th=train(x,y,w,10000)"
   ]
  },
  {
   "cell_type": "code",
   "execution_count": 12,
   "metadata": {},
   "outputs": [
    {
     "name": "stdout",
     "output_type": "stream",
     "text": [
      "[[-1.79160702  3.36228665 -4.15277106 -1.1135678   2.04606174]\n",
      " [ 2.31550669 -2.71548858  4.07476616  0.06365725 -2.49872364]\n",
      " [ 0.72956785  0.9338406   1.01510335  0.98196087  1.0888418 ]]\n"
     ]
    }
   ],
   "source": [
    "print(w1)"
   ]
  },
  {
   "cell_type": "code",
   "execution_count": 13,
   "metadata": {},
   "outputs": [
    {
     "data": {
      "text/plain": [
       "array([[-1.79161862,  3.36229714, -4.15277156, -1.1135646 ,  2.04607344],\n",
       "       [ 2.31551214, -2.71550302,  4.0747743 ,  0.06365941, -2.49873416],\n",
       "       [ 0.72956481,  0.9338491 ,  1.01511079,  0.98196403,  1.08884599]])"
      ]
     },
     "execution_count": 13,
     "metadata": {},
     "output_type": "execute_result"
    }
   ],
   "source": [
    "th[0]"
   ]
  },
  {
   "cell_type": "code",
   "execution_count": 14,
   "metadata": {},
   "outputs": [],
   "source": [
    "def predict(x,w):\n",
    "    r=x\n",
    "    for v in w:\n",
    "        r=sigmoid(r.dot(v))\n",
    "    return r"
   ]
  },
  {
   "cell_type": "code",
   "execution_count": 15,
   "metadata": {},
   "outputs": [
    {
     "name": "stdout",
     "output_type": "stream",
     "text": [
      "[[0.00676356]\n",
      " [0.98797577]\n",
      " [0.99583289]\n",
      " [0.00475503]\n",
      " [0.99583289]\n",
      " [0.00475503]]\n"
     ]
    }
   ],
   "source": [
    "ycap=predict(x,th)\n",
    "print(ycap)"
   ]
  },
  {
   "cell_type": "code",
   "execution_count": 16,
   "metadata": {},
   "outputs": [],
   "source": [
    "#ycap1=predict(x,theta)\n",
    "#print(ycap1)"
   ]
  },
  {
   "cell_type": "code",
   "execution_count": 17,
   "metadata": {},
   "outputs": [
    {
     "name": "stdout",
     "output_type": "stream",
     "text": [
      "[[0.00676432]\n",
      " [0.98797447]\n",
      " [0.99583239]\n",
      " [0.00475557]\n",
      " [0.99583239]\n",
      " [0.00475557]]\n"
     ]
    }
   ],
   "source": [
    "ycap=predict(x,theta)\n",
    "print(ycap)"
   ]
  },
  {
   "cell_type": "code",
   "execution_count": 18,
   "metadata": {},
   "outputs": [
    {
     "name": "stdout",
     "output_type": "stream",
     "text": [
      "[[0.         0.00676432]\n",
      " [1.         0.98797447]\n",
      " [1.         0.99583239]\n",
      " [0.         0.00475557]\n",
      " [1.         0.99583239]\n",
      " [0.         0.00475557]]\n"
     ]
    }
   ],
   "source": [
    "print(np.c_[y.ravel(),ycap.ravel()])"
   ]
  },
  {
   "cell_type": "code",
   "execution_count": 19,
   "metadata": {},
   "outputs": [
    {
     "name": "stdout",
     "output_type": "stream",
     "text": [
      "[[-1.79160702  3.36228665 -4.15277106 -1.1135678   2.04606174]\n",
      " [ 2.31550669 -2.71548858  4.07476616  0.06365725 -2.49872364]\n",
      " [ 0.72956785  0.9338406   1.01510335  0.98196087  1.0888418 ]]\n"
     ]
    }
   ],
   "source": [
    "print(w1)"
   ]
  },
  {
   "cell_type": "code",
   "execution_count": 20,
   "metadata": {},
   "outputs": [
    {
     "name": "stdout",
     "output_type": "stream",
     "text": [
      "[[0.]\n",
      " [1.]\n",
      " [1.]\n",
      " [0.]\n",
      " [1.]\n",
      " [0.]]\n"
     ]
    }
   ],
   "source": [
    "ycap[ycap>=0.5]=1\n",
    "ycap[ycap<=0.5]=0\n",
    "print(ycap)"
   ]
  },
  {
   "cell_type": "code",
   "execution_count": 23,
   "metadata": {},
   "outputs": [],
   "source": [
    "def acc_clf(y,ycap):\n",
    "    r=y==ycap\n",
    "    pcnt=r[r==True].size\n",
    "    n=y.size\n",
    "    acc=pcnt/n*100\n",
    "    return acc"
   ]
  },
  {
   "cell_type": "code",
   "execution_count": 24,
   "metadata": {},
   "outputs": [
    {
     "data": {
      "text/plain": [
       "100.0"
      ]
     },
     "execution_count": 24,
     "metadata": {},
     "output_type": "execute_result"
    }
   ],
   "source": [
    "acc_clf(y,ycap)"
   ]
  },
  {
   "cell_type": "code",
   "execution_count": null,
   "metadata": {},
   "outputs": [],
   "source": []
  }
 ],
 "metadata": {
  "kernelspec": {
   "display_name": "Python 3",
   "language": "python",
   "name": "python3"
  },
  "language_info": {
   "codemirror_mode": {
    "name": "ipython",
    "version": 3
   },
   "file_extension": ".py",
   "mimetype": "text/x-python",
   "name": "python",
   "nbconvert_exporter": "python",
   "pygments_lexer": "ipython3",
   "version": "3.7.6"
  }
 },
 "nbformat": 4,
 "nbformat_minor": 4
}
